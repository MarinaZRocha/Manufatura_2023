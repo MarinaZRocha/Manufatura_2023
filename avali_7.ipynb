{
 "cells": [
  {
   "cell_type": "code",
   "execution_count": 1,
   "metadata": {},
   "outputs": [],
   "source": [
    "import pandas as pd\n",
    "import numpy as np"
   ]
  },
  {
   "cell_type": "markdown",
   "metadata": {},
   "source": [
    "# 1. Leitura e organização dos dados"
   ]
  },
  {
   "cell_type": "code",
   "execution_count": 4,
   "metadata": {},
   "outputs": [
    {
     "data": {
      "text/html": [
       "<div>\n",
       "<style scoped>\n",
       "    .dataframe tbody tr th:only-of-type {\n",
       "        vertical-align: middle;\n",
       "    }\n",
       "\n",
       "    .dataframe tbody tr th {\n",
       "        vertical-align: top;\n",
       "    }\n",
       "\n",
       "    .dataframe thead th {\n",
       "        text-align: right;\n",
       "    }\n",
       "</style>\n",
       "<table border=\"1\" class=\"dataframe\">\n",
       "  <thead>\n",
       "    <tr style=\"text-align: right;\">\n",
       "      <th></th>\n",
       "      <th>Te</th>\n",
       "      <th>Pi</th>\n",
       "    </tr>\n",
       "    <tr>\n",
       "      <th>Tarefa</th>\n",
       "      <th></th>\n",
       "      <th></th>\n",
       "    </tr>\n",
       "  </thead>\n",
       "  <tbody>\n",
       "    <tr>\n",
       "      <th>1</th>\n",
       "      <td>0.5</td>\n",
       "      <td>-</td>\n",
       "    </tr>\n",
       "    <tr>\n",
       "      <th>2</th>\n",
       "      <td>0.3</td>\n",
       "      <td>1</td>\n",
       "    </tr>\n",
       "    <tr>\n",
       "      <th>3</th>\n",
       "      <td>0.3</td>\n",
       "      <td>1</td>\n",
       "    </tr>\n",
       "    <tr>\n",
       "      <th>4</th>\n",
       "      <td>0.2</td>\n",
       "      <td>2</td>\n",
       "    </tr>\n",
       "    <tr>\n",
       "      <th>5</th>\n",
       "      <td>0.1</td>\n",
       "      <td>2</td>\n",
       "    </tr>\n",
       "  </tbody>\n",
       "</table>\n",
       "</div>"
      ],
      "text/plain": [
       "         Te Pi\n",
       "Tarefa        \n",
       "1       0.5  -\n",
       "2       0.3  1\n",
       "3       0.3  1\n",
       "4       0.2  2\n",
       "5       0.1  2"
      ]
     },
     "execution_count": 4,
     "metadata": {},
     "output_type": "execute_result"
    }
   ],
   "source": [
    "# Ler a tabela\n",
    "df = pd.read_csv(\"/home/marina/Documentos/FURG/Manufatura/avali7.csv\",\n",
    "                 index_col=0)\n",
    "df.head()"
   ]
  },
  {
   "cell_type": "code",
   "execution_count": 7,
   "metadata": {},
   "outputs": [
    {
     "data": {
      "text/html": [
       "<div>\n",
       "<style scoped>\n",
       "    .dataframe tbody tr th:only-of-type {\n",
       "        vertical-align: middle;\n",
       "    }\n",
       "\n",
       "    .dataframe tbody tr th {\n",
       "        vertical-align: top;\n",
       "    }\n",
       "\n",
       "    .dataframe thead th {\n",
       "        text-align: right;\n",
       "    }\n",
       "</style>\n",
       "<table border=\"1\" class=\"dataframe\">\n",
       "  <thead>\n",
       "    <tr style=\"text-align: right;\">\n",
       "      <th></th>\n",
       "      <th>Te</th>\n",
       "      <th>Pi</th>\n",
       "    </tr>\n",
       "    <tr>\n",
       "      <th>Tarefa</th>\n",
       "      <th></th>\n",
       "      <th></th>\n",
       "    </tr>\n",
       "  </thead>\n",
       "  <tbody>\n",
       "    <tr>\n",
       "      <th>6</th>\n",
       "      <td>0.6</td>\n",
       "      <td>3</td>\n",
       "    </tr>\n",
       "    <tr>\n",
       "      <th>10</th>\n",
       "      <td>0.6</td>\n",
       "      <td>6, 9</td>\n",
       "    </tr>\n",
       "    <tr>\n",
       "      <th>1</th>\n",
       "      <td>0.5</td>\n",
       "      <td>-</td>\n",
       "    </tr>\n",
       "    <tr>\n",
       "      <th>8</th>\n",
       "      <td>0.5</td>\n",
       "      <td>3, 5</td>\n",
       "    </tr>\n",
       "    <tr>\n",
       "      <th>7</th>\n",
       "      <td>0.4</td>\n",
       "      <td>4, 5</td>\n",
       "    </tr>\n",
       "  </tbody>\n",
       "</table>\n",
       "</div>"
      ],
      "text/plain": [
       "         Te    Pi\n",
       "Tarefa           \n",
       "6       0.6     3\n",
       "10      0.6  6, 9\n",
       "1       0.5     -\n",
       "8       0.5  3, 5\n",
       "7       0.4  4, 5"
      ]
     },
     "execution_count": 7,
     "metadata": {},
     "output_type": "execute_result"
    }
   ],
   "source": [
    "# Converte do formato String para float\n",
    "\n",
    "df[\"Te\"] = df[\"Te\"].astype(float)\n",
    "\n",
    "# Ordenar em ordem decrescente conforme os valores de Tek\n",
    "\n",
    "df = df.sort_values(by=\"Te\", ascending=False)\n",
    "df.head()"
   ]
  },
  {
   "cell_type": "markdown",
   "metadata": {},
   "source": [
    "# 2. Resolução do problema "
   ]
  },
  {
   "cell_type": "code",
   "execution_count": 16,
   "metadata": {},
   "outputs": [],
   "source": [
    "# Funcao para identificar predecessores imediatos\n",
    "\n",
    "def precede_por(antecessor):\n",
    "  pre = antecessor.split(\",\")\n",
    "  if \"-\" in pre:\n",
    "    return []\n",
    "  return [int(pi) for pi in pre]\n",
    "\n",
    "# Funcao para estabelecer cada estacao\n",
    "\n",
    "def est_nova():\n",
    "  return {\n",
    "      \"Tarefas\": [], \"Tempo\": 0,\n",
    "  }\n",
    "\n",
    "# Funcao que estabelece a regra do maior candidato\n",
    "\n",
    "def regra_maior_candidato(df, ts):\n",
    "  tempo_est = ts\n",
    "  tf_feita = []\n",
    "  i_tf = 0\n",
    "  estacoes = []\n",
    "  estacao = est_nova()\n",
    "\n",
    "  while len(tf_feita) < df.shape[0]:\n",
    "    tf = df.iloc[i_tf]\n",
    "    comp = True\n",
    "\n",
    "    tempo_tf = tf.Te\n",
    "    n_tf = tf.name\n",
    "    antes = precede_por(tf.Pi)    # lista de antecessores\n",
    "\n",
    "    for ante in antes:\n",
    "      if ante not in tf_feita:      # verifica se tarefa foi completada\n",
    "        comp = False\n",
    "        break\n",
    "\n",
    "    if n_tf in tf_feita:\n",
    "      comp = False\n",
    "\n",
    "    if tempo_est < tempo_tf:\n",
    "      comp = False\n",
    "    \n",
    "    if comp:\n",
    "      estacao[\"Tarefas\"].append(n_tf)   # adiciona o numero da tarefa na lista\n",
    "      estacao[\"Tempo\"] += tempo_tf      # soma o tempo da tarefa completada\n",
    "      \n",
    "      tf_feita.append(n_tf)\n",
    "      tempo_est -= tempo_tf\n",
    "\n",
    "    if i_tf == df.shape[0]-1:\n",
    "      estacoes.append(estacao)\n",
    "\n",
    "      estacao = est_nova()\n",
    "      tempo_est = ts\n",
    "\n",
    "      i_tf = 0\n",
    "    else:\n",
    "      i_tf += 1\n",
    "\n",
    "  return estacoes"
   ]
  },
  {
   "cell_type": "code",
   "execution_count": 17,
   "metadata": {},
   "outputs": [
    {
     "data": {
      "text/plain": [
       "[{'Tarefas': [1, 2, 4], 'Tempo': 1.0},\n",
       " {'Tarefas': [3, 5], 'Tempo': 0.4},\n",
       " {'Tarefas': [6, 7], 'Tempo': 1.0},\n",
       " {'Tarefas': [8, 9], 'Tempo': 0.8}]"
      ]
     },
     "execution_count": 17,
     "metadata": {},
     "output_type": "execute_result"
    }
   ],
   "source": [
    "# dados do enunciado\n",
    "\n",
    "tc = 1.1 \n",
    "tr = 0.1\n",
    "ts = tc - tr\n",
    "\n",
    "# execucao \n",
    "\n",
    "regra_maior_candidato(df, ts)"
   ]
  }
 ],
 "metadata": {
  "kernelspec": {
   "display_name": "Python 3",
   "language": "python",
   "name": "python3"
  },
  "language_info": {
   "codemirror_mode": {
    "name": "ipython",
    "version": 3
   },
   "file_extension": ".py",
   "mimetype": "text/x-python",
   "name": "python",
   "nbconvert_exporter": "python",
   "pygments_lexer": "ipython3",
   "version": "3.8.10"
  },
  "orig_nbformat": 4
 },
 "nbformat": 4,
 "nbformat_minor": 2
}
